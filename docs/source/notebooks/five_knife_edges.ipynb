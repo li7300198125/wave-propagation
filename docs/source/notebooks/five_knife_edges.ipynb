{
 "cells": [
  {
   "cell_type": "markdown",
   "source": [
    "# Diffraction on five knife-edges\n",
    "example from [Vavilov S. A., Lytaev M. S. Modeling Equation for Multiple Knife-Edge Diffraction\n",
    "//IEEE Transactions on Antennas and Propagation. – 2020. – Vol. 68. – Iss. 5. – pp. 3869-3877.](https://doi.org/10.1109/TAP.2019.2957085)"
   ],
   "metadata": {
    "collapsed": false
   }
  },
  {
   "cell_type": "code",
   "execution_count": 1,
   "metadata": {
    "collapsed": true
   },
   "outputs": [],
   "source": [
    "import os\n",
    "os.chdir('../../')\n",
    "from rwp.kediffraction import *\n",
    "from rwp.antennas import *\n",
    "from rwp.environment import *\n",
    "from rwp.vis import *"
   ]
  },
  {
   "cell_type": "markdown",
   "source": [
    "Preparing environment"
   ],
   "metadata": {
    "collapsed": false
   }
  },
  {
   "cell_type": "code",
   "execution_count": 2,
   "outputs": [],
   "source": [
    "env = Troposphere(flat=True)\n",
    "env.z_max = 150\n",
    "env.knife_edges = [KnifeEdge(range=100, height=25), \n",
    "                   KnifeEdge(range=200, height=50),\n",
    "                   KnifeEdge(range=300, height=75),\n",
    "                   KnifeEdge(range=600, height=50),\n",
    "                   KnifeEdge(range=800, height=125)]\n",
    "antenna = GaussAntenna(freq_hz=300e6,\n",
    "                       height=50,\n",
    "                       beam_width=15,\n",
    "                       eval_angle=0,\n",
    "                       polarz='H')\n"
   ],
   "metadata": {
    "collapsed": false,
    "pycharm": {
     "name": "#%%\n"
    }
   }
  },
  {
   "cell_type": "markdown",
   "source": [
    "Starting calculation"
   ],
   "metadata": {
    "collapsed": false
   }
  },
  {
   "cell_type": "code",
   "execution_count": null,
   "outputs": [],
   "source": [
    "kdc = KnifeEdgeDiffractionCalculator(src=antenna,\n",
    "                                     env=env,\n",
    "                                     max_range_m=1000)\n",
    "field = kdc.calculate()"
   ],
   "metadata": {
    "collapsed": false,
    "pycharm": {
     "name": "#%%\n",
     "is_executing": true
    }
   }
  },
  {
   "cell_type": "markdown",
   "source": [
    "Visualising results"
   ],
   "metadata": {
    "collapsed": false
   }
  },
  {
   "cell_type": "code",
   "execution_count": null,
   "outputs": [],
   "source": [
    "vis = FieldVisualiser(field, env=env, trans_func=lambda v: 10 * cm.log10(1e-16 + abs(v)), label='ke')\n",
    "plt = vis.plot2d(min=-40, max=0)\n",
    "plt.title('The intensity of the field component 10log10|u|')\n",
    "plt.xlabel('Range (m)')\n",
    "plt.ylabel('Height (m)')\n",
    "plt.show()\n",
    "\n",
    "plt = vis.plot_ver(175)\n",
    "plt.title('x = 175 m')\n",
    "plt.xlabel('Amplitude, dB')\n",
    "plt.ylabel('Height, m')\n",
    "plt.show()\n",
    "\n",
    "plt = vis.plot_ver(700)\n",
    "plt.title('x = 700 m')\n",
    "plt.xlabel('Amplitude, dB')\n",
    "plt.ylabel('Height, m')\n",
    "plt.show()"
   ],
   "metadata": {
    "collapsed": false,
    "pycharm": {
     "name": "#%%\n",
     "is_executing": true
    }
   }
  },
  {
   "cell_type": "code",
   "execution_count": null,
   "outputs": [],
   "source": [],
   "metadata": {
    "collapsed": false,
    "pycharm": {
     "name": "#%%\n",
     "is_executing": true
    }
   }
  }
 ],
 "metadata": {
  "language_info": {
   "codemirror_mode": {
    "name": "ipython",
    "version": 2
   },
   "file_extension": ".py",
   "mimetype": "text/x-python",
   "name": "python",
   "nbconvert_exporter": "python",
   "pygments_lexer": "ipython2",
   "version": "2.7.6"
  },
  "kernelspec": {
   "name": "python3",
   "language": "python",
   "display_name": "Python 3"
  }
 },
 "nbformat": 4,
 "nbformat_minor": 0
}